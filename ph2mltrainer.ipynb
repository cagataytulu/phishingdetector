{
 "cells": [
  {
   "cell_type": "code",
   "execution_count": 1,
   "id": "4ed2f9c9",
   "metadata": {},
   "outputs": [],
   "source": [
    "import json"
   ]
  },
  {
   "cell_type": "code",
   "execution_count": 2,
   "id": "af98583c",
   "metadata": {},
   "outputs": [
    {
     "name": "stdout",
     "output_type": "stream",
     "text": [
      "           url  domainStart  domainEnd  sslStart  sslEnd  \\\n",
      "0    bosnayapi         3531       1215        49      41   \n",
      "1      fizyopt         1024         69        23      67   \n",
      "2       franke         8618        146        18      72   \n",
      "3    e-yonetim         4859        253         4      86   \n",
      "4  mescainsaat         1633        192        39      51   \n",
      "\n",
      "                   sslIssuer  label  dlPhishingScore  \n",
      "0  Google Trust Services LLC      0         0.001109  \n",
      "1              Let's Encrypt      0         0.053668  \n",
      "2              Let's Encrypt      0         0.553775  \n",
      "3              Let's Encrypt      0         0.304773  \n",
      "4              Let's Encrypt      0         0.003063  \n"
     ]
    }
   ],
   "source": [
    "#load data into the dataframe\n",
    "import pandas as pd\n",
    "\n",
    "dfAllData = pd.read_csv('data/phase2DataAllwithps.csv')\n",
    "\n",
    "print(dfAllData.head()) "
   ]
  },
  {
   "cell_type": "code",
   "execution_count": 3,
   "id": "b1b667bd",
   "metadata": {},
   "outputs": [],
   "source": [
    "#shuffling the data frame elements\n",
    "dfTest=dfAllData.sample(frac = 1)"
   ]
  },
  {
   "cell_type": "code",
   "execution_count": 4,
   "id": "d39757c2",
   "metadata": {},
   "outputs": [],
   "source": [
    "dfTest.head(10).to_excel(\"samplePhase2Data.xlsx\")"
   ]
  },
  {
   "cell_type": "code",
   "execution_count": 6,
   "id": "9579875f",
   "metadata": {},
   "outputs": [
    {
     "data": {
      "text/plain": [
       "array(['Google Trust Services LLC', \"Let's Encrypt\", 'cPanel, Inc.',\n",
       "       'Isimtescil Bilisim A.S.', 'Cloudflare, Inc.', 'GoDaddy.com, Inc.',\n",
       "       'Sectigo Limited', nan, 'GlobalSign nv-sa', 'DigiCert Inc',\n",
       "       'Gandi', 'ZeroSSL', 'Unizeto Technologies S.A.', 'Entrust, Inc.',\n",
       "       'COMODO CA Limited', 'SSL Corporation', 'DigiCert, Inc.',\n",
       "       'E-TUGRA EBG BILISIM TEKNOLOJILERI VE HIZMETLERI ANONIM SIRKETI',\n",
       "       'Amazon', 'Starfield Technologies, Inc.', 'GoGetSSL',\n",
       "       'Corporation Service Company', 'Trust Provider B.V.',\n",
       "       'CentralNic Luxembourg Sàrl', 'TrustAsia Technologies, Inc.'],\n",
       "      dtype=object)"
      ]
     },
     "execution_count": 6,
     "metadata": {},
     "output_type": "execute_result"
    }
   ],
   "source": [
    "dfAllData[\"sslIssuer\"].unique()"
   ]
  },
  {
   "cell_type": "code",
   "execution_count": 5,
   "id": "d8dd4c68",
   "metadata": {},
   "outputs": [],
   "source": [
    "sslDict={}\n",
    "t=0\n",
    "for str in dfAllData[\"sslIssuer\"].unique():\n",
    "    if str not in sslDict.keys():\n",
    "        sslDict[str]=t\n",
    "        t+=1\n",
    "    "
   ]
  },
  {
   "cell_type": "code",
   "execution_count": 6,
   "id": "9e9da533",
   "metadata": {},
   "outputs": [
    {
     "data": {
      "text/plain": [
       "{'Google Trust Services LLC': 0,\n",
       " \"Let's Encrypt\": 1,\n",
       " 'cPanel, Inc.': 2,\n",
       " 'Isimtescil Bilisim A.S.': 3,\n",
       " 'Cloudflare, Inc.': 4,\n",
       " 'GoDaddy.com, Inc.': 5,\n",
       " 'Sectigo Limited': 6,\n",
       " nan: 7,\n",
       " 'GlobalSign nv-sa': 8,\n",
       " 'DigiCert Inc': 9,\n",
       " 'Gandi': 10,\n",
       " 'ZeroSSL': 11,\n",
       " 'Unizeto Technologies S.A.': 12,\n",
       " 'Entrust, Inc.': 13,\n",
       " 'COMODO CA Limited': 14,\n",
       " 'SSL Corporation': 15,\n",
       " 'DigiCert, Inc.': 16,\n",
       " 'E-TUGRA EBG BILISIM TEKNOLOJILERI VE HIZMETLERI ANONIM SIRKETI': 17,\n",
       " 'Amazon': 18,\n",
       " 'Starfield Technologies, Inc.': 19,\n",
       " 'GoGetSSL': 20,\n",
       " 'Corporation Service Company': 21,\n",
       " 'Trust Provider B.V.': 22,\n",
       " 'CentralNic Luxembourg Sàrl': 23,\n",
       " 'TrustAsia Technologies, Inc.': 24}"
      ]
     },
     "execution_count": 6,
     "metadata": {},
     "output_type": "execute_result"
    }
   ],
   "source": [
    "sslDict"
   ]
  },
  {
   "cell_type": "code",
   "execution_count": 12,
   "id": "f5439dd8",
   "metadata": {},
   "outputs": [],
   "source": [
    "# Convert and write JSON object to file\n",
    "with open(\"data/sslIssuers.json\", \"w\") as outfile: \n",
    "    json.dump(sslDict, outfile)"
   ]
  },
  {
   "cell_type": "code",
   "execution_count": 7,
   "id": "b3a9efbb",
   "metadata": {},
   "outputs": [],
   "source": [
    "def digitizeSsl(strIn):\n",
    "    global sslDict\n",
    "    if strIn in sslDict.keys():\n",
    "        return sslDict[strIn]\n",
    "    else:\n",
    "        return len(sslDict)+1"
   ]
  },
  {
   "cell_type": "code",
   "execution_count": 8,
   "id": "9a98b230",
   "metadata": {},
   "outputs": [],
   "source": [
    "dfAllData[\"sslIssuerNum\"]=dfAllData[\"sslIssuer\"].apply(digitizeSsl)"
   ]
  },
  {
   "cell_type": "code",
   "execution_count": 9,
   "id": "afd8459b",
   "metadata": {},
   "outputs": [
    {
     "name": "stdout",
     "output_type": "stream",
     "text": [
      "           url  domainStart  domainEnd  sslStart  sslEnd  \\\n",
      "0    bosnayapi         3531       1215        49      41   \n",
      "1      fizyopt         1024         69        23      67   \n",
      "2       franke         8618        146        18      72   \n",
      "3    e-yonetim         4859        253         4      86   \n",
      "4  mescainsaat         1633        192        39      51   \n",
      "\n",
      "                   sslIssuer  label  dlPhishingScore  sslIssuerNum  \n",
      "0  Google Trust Services LLC      0         0.001109             0  \n",
      "1              Let's Encrypt      0         0.053668             1  \n",
      "2              Let's Encrypt      0         0.553775             1  \n",
      "3              Let's Encrypt      0         0.304773             1  \n",
      "4              Let's Encrypt      0         0.003063             1  \n"
     ]
    }
   ],
   "source": [
    "print(dfAllData.head()) "
   ]
  },
  {
   "cell_type": "code",
   "execution_count": 10,
   "id": "eb8da293",
   "metadata": {},
   "outputs": [],
   "source": [
    "from sklearn.model_selection import train_test_split"
   ]
  },
  {
   "cell_type": "code",
   "execution_count": 11,
   "id": "53e54a96",
   "metadata": {},
   "outputs": [],
   "source": [
    "dataDfX=dfAllData.drop(['url', 'sslIssuer','label'], axis=1)"
   ]
  },
  {
   "cell_type": "code",
   "execution_count": 12,
   "id": "9b9d44d5",
   "metadata": {},
   "outputs": [
    {
     "data": {
      "text/html": [
       "<div>\n",
       "<style scoped>\n",
       "    .dataframe tbody tr th:only-of-type {\n",
       "        vertical-align: middle;\n",
       "    }\n",
       "\n",
       "    .dataframe tbody tr th {\n",
       "        vertical-align: top;\n",
       "    }\n",
       "\n",
       "    .dataframe thead th {\n",
       "        text-align: right;\n",
       "    }\n",
       "</style>\n",
       "<table border=\"1\" class=\"dataframe\">\n",
       "  <thead>\n",
       "    <tr style=\"text-align: right;\">\n",
       "      <th></th>\n",
       "      <th>domainStart</th>\n",
       "      <th>domainEnd</th>\n",
       "      <th>sslStart</th>\n",
       "      <th>sslEnd</th>\n",
       "      <th>dlPhishingScore</th>\n",
       "      <th>sslIssuerNum</th>\n",
       "    </tr>\n",
       "  </thead>\n",
       "  <tbody>\n",
       "    <tr>\n",
       "      <th>0</th>\n",
       "      <td>3531</td>\n",
       "      <td>1215</td>\n",
       "      <td>49</td>\n",
       "      <td>41</td>\n",
       "      <td>0.001109</td>\n",
       "      <td>0</td>\n",
       "    </tr>\n",
       "    <tr>\n",
       "      <th>1</th>\n",
       "      <td>1024</td>\n",
       "      <td>69</td>\n",
       "      <td>23</td>\n",
       "      <td>67</td>\n",
       "      <td>0.053668</td>\n",
       "      <td>1</td>\n",
       "    </tr>\n",
       "    <tr>\n",
       "      <th>2</th>\n",
       "      <td>8618</td>\n",
       "      <td>146</td>\n",
       "      <td>18</td>\n",
       "      <td>72</td>\n",
       "      <td>0.553775</td>\n",
       "      <td>1</td>\n",
       "    </tr>\n",
       "    <tr>\n",
       "      <th>3</th>\n",
       "      <td>4859</td>\n",
       "      <td>253</td>\n",
       "      <td>4</td>\n",
       "      <td>86</td>\n",
       "      <td>0.304773</td>\n",
       "      <td>1</td>\n",
       "    </tr>\n",
       "    <tr>\n",
       "      <th>4</th>\n",
       "      <td>1633</td>\n",
       "      <td>192</td>\n",
       "      <td>39</td>\n",
       "      <td>51</td>\n",
       "      <td>0.003063</td>\n",
       "      <td>1</td>\n",
       "    </tr>\n",
       "  </tbody>\n",
       "</table>\n",
       "</div>"
      ],
      "text/plain": [
       "   domainStart  domainEnd  sslStart  sslEnd  dlPhishingScore  sslIssuerNum\n",
       "0         3531       1215        49      41         0.001109             0\n",
       "1         1024         69        23      67         0.053668             1\n",
       "2         8618        146        18      72         0.553775             1\n",
       "3         4859        253         4      86         0.304773             1\n",
       "4         1633        192        39      51         0.003063             1"
      ]
     },
     "execution_count": 12,
     "metadata": {},
     "output_type": "execute_result"
    }
   ],
   "source": [
    "dataDfX.head()"
   ]
  },
  {
   "cell_type": "code",
   "execution_count": 13,
   "id": "fc48fb61",
   "metadata": {},
   "outputs": [],
   "source": [
    "output_rows = dfAllData['label']"
   ]
  },
  {
   "cell_type": "code",
   "execution_count": 14,
   "id": "57a583e9",
   "metadata": {},
   "outputs": [],
   "source": [
    "from sklearn.metrics import confusion_matrix,ConfusionMatrixDisplay\n",
    "from sklearn.preprocessing import MinMaxScaler"
   ]
  },
  {
   "cell_type": "code",
   "execution_count": 15,
   "id": "56bd1aee",
   "metadata": {},
   "outputs": [],
   "source": [
    "scaler = MinMaxScaler()\n",
    "scaler.fit(dataDfX)\n",
    "t_df = scaler.transform(dataDfX)"
   ]
  },
  {
   "cell_type": "code",
   "execution_count": 16,
   "id": "659f1081",
   "metadata": {},
   "outputs": [
    {
     "data": {
      "text/plain": [
       "array([[0.3465502 , 0.34682391, 0.12722646, 0.10632911, 0.00095898,\n",
       "        0.        ],\n",
       "       [0.10050054, 0.03966765, 0.0610687 , 0.1721519 , 0.05352635,\n",
       "        0.04166667],\n",
       "       [0.84581411, 0.06030555, 0.04834606, 0.18481013, 0.55370842,\n",
       "        0.04166667],\n",
       "       [0.47688684, 0.08898419, 0.01272265, 0.22025316, 0.30466851,\n",
       "        0.04166667],\n",
       "       [0.16027088, 0.07263468, 0.10178117, 0.13164557, 0.00291349,\n",
       "        0.04166667],\n",
       "       [0.09490627, 0.05521308, 0.03053435, 0.20253165, 0.04507753,\n",
       "        0.04166667],\n",
       "       [0.64402787, 0.21978022, 0.00508906, 0.2278481 , 0.0141096 ,\n",
       "        0.04166667],\n",
       "       [0.07802532, 0.29697132, 0.02290076, 0.21012658, 0.15148896,\n",
       "        0.        ],\n",
       "       [0.22769654, 0.08415974, 0.17048346, 0.06329114, 0.06131825,\n",
       "        0.08333333],\n",
       "       [0.48748651, 0.06003752, 0.043257  , 0.18987342, 0.00175029,\n",
       "        0.04166667]])"
      ]
     },
     "execution_count": 16,
     "metadata": {},
     "output_type": "execute_result"
    }
   ],
   "source": [
    "t_df[0:10]"
   ]
  },
  {
   "cell_type": "code",
   "execution_count": 17,
   "id": "8cb9a4df",
   "metadata": {},
   "outputs": [],
   "source": [
    "#from sklearn.model_selection import train_test_split\n",
    "X_train, X_test, y_train, y_test = train_test_split(dataDfX, output_rows , test_size=0.2, random_state=1)"
   ]
  },
  {
   "cell_type": "code",
   "execution_count": 18,
   "id": "8361b51c",
   "metadata": {},
   "outputs": [
    {
     "data": {
      "text/html": [
       "<div>\n",
       "<style scoped>\n",
       "    .dataframe tbody tr th:only-of-type {\n",
       "        vertical-align: middle;\n",
       "    }\n",
       "\n",
       "    .dataframe tbody tr th {\n",
       "        vertical-align: top;\n",
       "    }\n",
       "\n",
       "    .dataframe thead th {\n",
       "        text-align: right;\n",
       "    }\n",
       "</style>\n",
       "<table border=\"1\" class=\"dataframe\">\n",
       "  <thead>\n",
       "    <tr style=\"text-align: right;\">\n",
       "      <th></th>\n",
       "      <th>domainStart</th>\n",
       "      <th>domainEnd</th>\n",
       "      <th>sslStart</th>\n",
       "      <th>sslEnd</th>\n",
       "      <th>dlPhishingScore</th>\n",
       "      <th>sslIssuerNum</th>\n",
       "    </tr>\n",
       "  </thead>\n",
       "  <tbody>\n",
       "    <tr>\n",
       "      <th>0</th>\n",
       "      <td>3531</td>\n",
       "      <td>1215</td>\n",
       "      <td>49</td>\n",
       "      <td>41</td>\n",
       "      <td>0.001109</td>\n",
       "      <td>0</td>\n",
       "    </tr>\n",
       "    <tr>\n",
       "      <th>1</th>\n",
       "      <td>1024</td>\n",
       "      <td>69</td>\n",
       "      <td>23</td>\n",
       "      <td>67</td>\n",
       "      <td>0.053668</td>\n",
       "      <td>1</td>\n",
       "    </tr>\n",
       "    <tr>\n",
       "      <th>2</th>\n",
       "      <td>8618</td>\n",
       "      <td>146</td>\n",
       "      <td>18</td>\n",
       "      <td>72</td>\n",
       "      <td>0.553775</td>\n",
       "      <td>1</td>\n",
       "    </tr>\n",
       "    <tr>\n",
       "      <th>3</th>\n",
       "      <td>4859</td>\n",
       "      <td>253</td>\n",
       "      <td>4</td>\n",
       "      <td>86</td>\n",
       "      <td>0.304773</td>\n",
       "      <td>1</td>\n",
       "    </tr>\n",
       "    <tr>\n",
       "      <th>4</th>\n",
       "      <td>1633</td>\n",
       "      <td>192</td>\n",
       "      <td>39</td>\n",
       "      <td>51</td>\n",
       "      <td>0.003063</td>\n",
       "      <td>1</td>\n",
       "    </tr>\n",
       "  </tbody>\n",
       "</table>\n",
       "</div>"
      ],
      "text/plain": [
       "   domainStart  domainEnd  sslStart  sslEnd  dlPhishingScore  sslIssuerNum\n",
       "0         3531       1215        49      41         0.001109             0\n",
       "1         1024         69        23      67         0.053668             1\n",
       "2         8618        146        18      72         0.553775             1\n",
       "3         4859        253         4      86         0.304773             1\n",
       "4         1633        192        39      51         0.003063             1"
      ]
     },
     "execution_count": 18,
     "metadata": {},
     "output_type": "execute_result"
    }
   ],
   "source": [
    "dataDfX.head()"
   ]
  },
  {
   "cell_type": "code",
   "execution_count": 19,
   "id": "c680493d",
   "metadata": {},
   "outputs": [
    {
     "data": {
      "text/plain": [
       "1    4937\n",
       "0    4120\n",
       "Name: label, dtype: int64"
      ]
     },
     "execution_count": 19,
     "metadata": {},
     "output_type": "execute_result"
    }
   ],
   "source": [
    "y_test.value_counts()"
   ]
  },
  {
   "cell_type": "code",
   "execution_count": 20,
   "id": "fcb88143",
   "metadata": {},
   "outputs": [],
   "source": [
    "scaler = MinMaxScaler()\n",
    "# fit scaler on the training dataset\n",
    "scaler.fit(X_train)\n",
    "# transform the training dataset\n",
    "X_train_scaled = scaler.transform(X_train)"
   ]
  },
  {
   "cell_type": "code",
   "execution_count": 22,
   "id": "28f5f0c9",
   "metadata": {},
   "outputs": [],
   "source": [
    "import pickle"
   ]
  },
  {
   "cell_type": "code",
   "execution_count": 23,
   "id": "5471cf6d",
   "metadata": {},
   "outputs": [],
   "source": [
    "# save the scaler\n",
    "pickle.dump(scaler, open('data/scaler.pkl', 'wb'))"
   ]
  },
  {
   "cell_type": "code",
   "execution_count": 111,
   "id": "e24df32c",
   "metadata": {},
   "outputs": [
    {
     "name": "stdout",
     "output_type": "stream",
     "text": [
      "Ssl Issuer Number Feature\n",
      "Top 10 Unique Values:\n",
      "7     28041\n",
      "1     11740\n",
      "0      2079\n",
      "6      1607\n",
      "2       618\n",
      "4       475\n",
      "11      165\n",
      "9       146\n",
      "3       135\n",
      "8        65\n",
      "Name: sslIssuerNum, dtype: int64\n"
     ]
    }
   ],
   "source": [
    "print(f\"Ssl Issuer Number Feature\\nTop 10 Unique Values:\\n{dataDfX['sslIssuerNum'].value_counts()[0:10]}\")"
   ]
  },
  {
   "cell_type": "code",
   "execution_count": 25,
   "id": "7488093a",
   "metadata": {},
   "outputs": [],
   "source": [
    "import matplotlib.pyplot as plt"
   ]
  },
  {
   "cell_type": "code",
   "execution_count": 26,
   "id": "d7202e99",
   "metadata": {},
   "outputs": [
    {
     "data": {
      "image/png": "[encoded data removed]",
      "text/plain": [
       "<Figure size 720x576 with 6 Axes>"
      ]
     },
     "metadata": {
      "needs_background": "light"
     },
     "output_type": "display_data"
    }
   ],
   "source": [
    "dataDfX.hist(figsize=(10, 8))\n",
    "plt.show()"
   ]
  },
  {
   "cell_type": "code",
   "execution_count": 61,
   "id": "c5365c06",
   "metadata": {},
   "outputs": [],
   "source": [
    "import pickle"
   ]
  },
  {
   "cell_type": "code",
   "execution_count": 27,
   "id": "f34fcaa2",
   "metadata": {},
   "outputs": [],
   "source": [
    "models = {}\n",
    "\n",
    "# Logistic Regression\n",
    "from sklearn.linear_model import LogisticRegression\n",
    "models['Logistic Regression'] = LogisticRegression()\n",
    "\n",
    "# Support Vector Machines\n",
    "from sklearn.svm import LinearSVC\n",
    "models['Support Vector Machines'] = LinearSVC()\n",
    "\n",
    "# Decision Trees\n",
    "from sklearn.tree import DecisionTreeClassifier\n",
    "models['Decision Trees'] = DecisionTreeClassifier()\n",
    "\n",
    "# Random Forest\n",
    "from sklearn.ensemble import RandomForestClassifier\n",
    "models['Random Forest'] = RandomForestClassifier()"
   ]
  },
  {
   "cell_type": "code",
   "execution_count": 63,
   "id": "42ac70e2",
   "metadata": {},
   "outputs": [],
   "source": [
    "from pickle import dump"
   ]
  },
  {
   "cell_type": "code",
   "execution_count": 28,
   "id": "48ceb270",
   "metadata": {},
   "outputs": [],
   "source": [
    "from sklearn.svm import SVC"
   ]
  },
  {
   "cell_type": "code",
   "execution_count": 29,
   "id": "f9697b73",
   "metadata": {},
   "outputs": [],
   "source": [
    "from sklearn.metrics import confusion_matrix, ConfusionMatrixDisplay"
   ]
  },
  {
   "cell_type": "code",
   "execution_count": 30,
   "id": "9877fced",
   "metadata": {},
   "outputs": [],
   "source": [
    "#X_train, X_test, y_train, y_test = train_test_split(t_df, output_rows , test_size=0.1, random_state=1)"
   ]
  },
  {
   "cell_type": "code",
   "execution_count": 31,
   "id": "7635fefe",
   "metadata": {},
   "outputs": [
    {
     "name": "stderr",
     "output_type": "stream",
     "text": [
      "C:\\ProgramData\\Anaconda3\\lib\\site-packages\\sklearn\\linear_model\\_logistic.py:444: ConvergenceWarning: lbfgs failed to converge (status=1):\n",
      "STOP: TOTAL NO. of ITERATIONS REACHED LIMIT.\n",
      "\n",
      "Increase the number of iterations (max_iter) or scale the data as shown in:\n",
      "    https://scikit-learn.org/stable/modules/preprocessing.html\n",
      "Please also refer to the documentation for alternative solver options:\n",
      "    https://scikit-learn.org/stable/modules/linear_model.html#logistic-regression\n",
      "  n_iter_i = _check_optimize_result(\n",
      "C:\\ProgramData\\Anaconda3\\lib\\site-packages\\sklearn\\svm\\_base.py:1225: ConvergenceWarning: Liblinear failed to converge, increase the number of iterations.\n",
      "  warnings.warn(\n"
     ]
    }
   ],
   "source": [
    "from sklearn.metrics import accuracy_score, precision_score, recall_score,f1_score\n",
    "\n",
    "accuracy, precision, recall,f1,cm = {}, {}, {},{},{}\n",
    "\n",
    "for key in models.keys():\n",
    "    \n",
    "    # Fit the classifier\n",
    "    models[key].fit(X_train, y_train)\n",
    "    \n",
    "    # Make predictions\n",
    "    predictions = models[key].predict(X_test)\n",
    "    pickle.dump(models[key], open(key+'.sav', 'wb'))\n",
    "    # Calculate metrics\n",
    "    accuracy[key] = accuracy_score(predictions, y_test)\n",
    "    precision[key] = precision_score(predictions, y_test)\n",
    "    recall[key] = recall_score(predictions, y_test)\n",
    "    f1[key] = f1_score(predictions, y_test)\n",
    "    cm[key] = confusion_matrix(y_test, predictions, labels=models[key].classes_)"
   ]
  },
  {
   "cell_type": "code",
   "execution_count": 65,
   "id": "ac235511",
   "metadata": {},
   "outputs": [],
   "source": [
    "import matplotlib.pyplot as plt"
   ]
  },
  {
   "cell_type": "code",
   "execution_count": 32,
   "id": "4c7b4b36",
   "metadata": {},
   "outputs": [
    {
     "data": {
      "text/html": [
       "<div>\n",
       "<style scoped>\n",
       "    .dataframe tbody tr th:only-of-type {\n",
       "        vertical-align: middle;\n",
       "    }\n",
       "\n",
       "    .dataframe tbody tr th {\n",
       "        vertical-align: top;\n",
       "    }\n",
       "\n",
       "    .dataframe thead th {\n",
       "        text-align: right;\n",
       "    }\n",
       "</style>\n",
       "<table border=\"1\" class=\"dataframe\">\n",
       "  <thead>\n",
       "    <tr style=\"text-align: right;\">\n",
       "      <th></th>\n",
       "      <th>Accuracy</th>\n",
       "      <th>Precision</th>\n",
       "      <th>Recall</th>\n",
       "      <th>F1</th>\n",
       "    </tr>\n",
       "  </thead>\n",
       "  <tbody>\n",
       "    <tr>\n",
       "      <th>Logistic Regression</th>\n",
       "      <td>0.965331</td>\n",
       "      <td>0.977314</td>\n",
       "      <td>0.959817</td>\n",
       "      <td>0.968487</td>\n",
       "    </tr>\n",
       "    <tr>\n",
       "      <th>Support Vector Machines</th>\n",
       "      <td>0.940157</td>\n",
       "      <td>0.958882</td>\n",
       "      <td>0.933176</td>\n",
       "      <td>0.945854</td>\n",
       "    </tr>\n",
       "    <tr>\n",
       "      <th>Decision Trees</th>\n",
       "      <td>0.978580</td>\n",
       "      <td>0.981973</td>\n",
       "      <td>0.978801</td>\n",
       "      <td>0.980384</td>\n",
       "    </tr>\n",
       "    <tr>\n",
       "      <th>Random Forest</th>\n",
       "      <td>0.983659</td>\n",
       "      <td>0.983593</td>\n",
       "      <td>0.986390</td>\n",
       "      <td>0.984990</td>\n",
       "    </tr>\n",
       "  </tbody>\n",
       "</table>\n",
       "</div>"
      ],
      "text/plain": [
       "                         Accuracy  Precision    Recall        F1\n",
       "Logistic Regression      0.965331   0.977314  0.959817  0.968487\n",
       "Support Vector Machines  0.940157   0.958882  0.933176  0.945854\n",
       "Decision Trees           0.978580   0.981973  0.978801  0.980384\n",
       "Random Forest            0.983659   0.983593  0.986390  0.984990"
      ]
     },
     "execution_count": 32,
     "metadata": {},
     "output_type": "execute_result"
    }
   ],
   "source": [
    "import pandas as pd\n",
    "\n",
    "df_model = pd.DataFrame(index=models.keys(), columns=['Accuracy', 'Precision', 'Recall',\"F1\"])\n",
    "df_model['Accuracy'] = accuracy.values()\n",
    "df_model['Precision'] = precision.values()\n",
    "df_model['Recall'] = recall.values()\n",
    "df_model['F1'] = f1.values()\n",
    "\n",
    "df_model"
   ]
  },
  {
   "cell_type": "code",
   "execution_count": 33,
   "id": "0a612cb6",
   "metadata": {},
   "outputs": [
    {
     "data": {
      "image/png": "[encoded data removed]",
      "text/plain": [
       "<Figure size 432x288 with 2 Axes>"
      ]
     },
     "metadata": {
      "needs_background": "light"
     },
     "output_type": "display_data"
    },
    {
     "data": {
      "image/png": "[encoded data removed]",
      "text/plain": [
       "<Figure size 432x288 with 2 Axes>"
      ]
     },
     "metadata": {
      "needs_background": "light"
     },
     "output_type": "display_data"
    },
    {
     "data": {
      "image/png": "[encoded data removed]",
      "text/plain": [
       "<Figure size 432x288 with 2 Axes>"
      ]
     },
     "metadata": {
      "needs_background": "light"
     },
     "output_type": "display_data"
    },
    {
     "data": {
      "image/png": "[encoded data removed]",
      "text/plain": [
       "<Figure size 432x288 with 2 Axes>"
      ]
     },
     "metadata": {
      "needs_background": "light"
     },
     "output_type": "display_data"
    }
   ],
   "source": [
    "for key in models.keys():\n",
    "    disp = ConfusionMatrixDisplay(confusion_matrix=cm[key],display_labels=models[key].classes_)\n",
    "    disp.plot()\n",
    "    plt.title(key+\" Method Test Confusion Matrix\")\n",
    "    plt.show()\n",
    "    "
   ]
  },
  {
   "cell_type": "code",
   "execution_count": 67,
   "id": "18885b58",
   "metadata": {},
   "outputs": [
    {
     "data": {
      "image/png": "[encoded data removed]",
      "text/plain": [
       "<Figure size 640x480 with 1 Axes>"
      ]
     },
     "metadata": {},
     "output_type": "display_data"
    }
   ],
   "source": [
    "ax = df_model.plot.barh()\n",
    "ax.legend(\n",
    "    ncol=len(models.keys()), \n",
    "    bbox_to_anchor=(0, 1), \n",
    "    loc='lower left', \n",
    "    prop={'size': 10}\n",
    ")\n",
    "plt.tight_layout()"
   ]
  },
  {
   "cell_type": "code",
   "execution_count": 68,
   "id": "f9faf04b",
   "metadata": {},
   "outputs": [],
   "source": [
    "import matplotlib.pyplot as pyplot"
   ]
  },
  {
   "cell_type": "code",
   "execution_count": 35,
   "id": "b4eaa706",
   "metadata": {},
   "outputs": [
    {
     "name": "stdout",
     "output_type": "stream",
     "text": [
      "Feature: domainStart, Score: -0.00162\n",
      "Feature: domainEnd, Score: -0.00058\n",
      "Feature: sslStart, Score: -0.00938\n",
      "Feature: sslEnd, Score: -0.00917\n",
      "Feature: dlPhishingScore, Score: 7.84023\n",
      "Feature: sslIssuerNum, Score: 0.34930\n"
     ]
    },
    {
     "data": {
      "image/png": "[encoded data removed]",
      "text/plain": [
       "<Figure size 432x288 with 1 Axes>"
      ]
     },
     "metadata": {
      "needs_background": "light"
     },
     "output_type": "display_data"
    }
   ],
   "source": [
    "featureList=['','']\n",
    "importance = models['Logistic Regression'].coef_[0]\n",
    "# summarize feature importance\n",
    "for i,v in enumerate(importance):\n",
    " print('Feature: %0s, Score: %.5f' % (dataDfX.columns[i],v))\n",
    "# plot feature importance\n",
    "plt.title('Importance of Each Features in Logistic Regression')\n",
    "plt.bar([x for x in dataDfX.columns], importance)\n",
    "plt.xticks(rotation = 45)\n",
    "plt.xlabel(\"Features\")\n",
    "plt.ylabel(\"Impotance Score\")\n",
    "plt.show()"
   ]
  },
  {
   "cell_type": "code",
   "execution_count": 36,
   "id": "2694821b",
   "metadata": {},
   "outputs": [
    {
     "name": "stdout",
     "output_type": "stream",
     "text": [
      "Feature: domainStart, Score: 0.88149\n",
      "Feature: domainEnd, Score: 0.01915\n",
      "Feature: sslStart, Score: 0.01178\n",
      "Feature: sslEnd, Score: 0.00207\n",
      "Feature: dlPhishingScore, Score: 0.08046\n",
      "Feature: sslIssuerNum, Score: 0.00505\n"
     ]
    },
    {
     "data": {
      "image/png": "[encoded data removed]",
      "text/plain": [
       "<Figure size 432x288 with 1 Axes>"
      ]
     },
     "metadata": {
      "needs_background": "light"
     },
     "output_type": "display_data"
    }
   ],
   "source": [
    "featureList=['','']\n",
    "importance = models['Decision Trees'].feature_importances_\n",
    "# summarize feature importance\n",
    "for i,v in enumerate(importance):\n",
    " print('Feature: %0s, Score: %.5f' % (dataDfX.columns[i],v))\n",
    "# plot feature importance\n",
    "plt.title('Importance of Each Features in Decision Trees')\n",
    "plt.bar([x for x in dataDfX.columns], importance)\n",
    "plt.xticks(rotation = 45)\n",
    "plt.xlabel(\"Features\")\n",
    "plt.ylabel(\"Impotance Score\")\n",
    "plt.show()"
   ]
  },
  {
   "cell_type": "code",
   "execution_count": 37,
   "id": "e528145b",
   "metadata": {},
   "outputs": [
    {
     "name": "stdout",
     "output_type": "stream",
     "text": [
      "Feature: domainStart, Score: 0.43315\n",
      "Feature: domainEnd, Score: 0.04222\n",
      "Feature: sslStart, Score: 0.09706\n",
      "Feature: sslEnd, Score: 0.09051\n",
      "Feature: dlPhishingScore, Score: 0.30381\n",
      "Feature: sslIssuerNum, Score: 0.03325\n"
     ]
    },
    {
     "data": {
      "image/png": "[encoded data removed]",
      "text/plain": [
       "<Figure size 432x288 with 1 Axes>"
      ]
     },
     "metadata": {
      "needs_background": "light"
     },
     "output_type": "display_data"
    }
   ],
   "source": [
    "featureList=['','']\n",
    "importance = models['Random Forest'].feature_importances_\n",
    "# summarize feature importance\n",
    "for i,v in enumerate(importance):\n",
    " print('Feature: %0s, Score: %.5f' % (dataDfX.columns[i],v))\n",
    "# plot feature importance\n",
    "plt.title('Importance of Each Features in Random Forest')\n",
    "plt.bar([x for x in dataDfX.columns], importance)\n",
    "plt.xticks(rotation = 45)\n",
    "plt.xlabel(\"Features\")\n",
    "plt.ylabel(\"Impotance Score\")\n",
    "plt.show()"
   ]
  },
  {
   "cell_type": "code",
   "execution_count": 38,
   "id": "31d878c8",
   "metadata": {},
   "outputs": [
    {
     "name": "stdout",
     "output_type": "stream",
     "text": [
      "Feature: domainStart, Score: -0.00114\n",
      "Feature: domainEnd, Score: 0.00097\n",
      "Feature: sslStart, Score: -0.00589\n",
      "Feature: sslEnd, Score: 0.00181\n",
      "Feature: dlPhishingScore, Score: 1.01568\n",
      "Feature: sslIssuerNum, Score: 0.09587\n"
     ]
    },
    {
     "data": {
      "image/png": "[encoded data removed]",
      "text/plain": [
       "<Figure size 432x288 with 1 Axes>"
      ]
     },
     "metadata": {
      "needs_background": "light"
     },
     "output_type": "display_data"
    }
   ],
   "source": [
    "featureList=['','']\n",
    "importance = models['Support Vector Machines'].coef_[0]\n",
    "# summarize feature importance\n",
    "for i,v in enumerate(importance):\n",
    " print('Feature: %0s, Score: %.5f' % (dataDfX.columns[i],v))\n",
    "# plot feature importance\n",
    "plt.title('Importance of Each Features in SVM')\n",
    "plt.bar([x for x in dataDfX.columns], importance)\n",
    "plt.xticks(rotation = 45)\n",
    "plt.xlabel(\"Features\")\n",
    "plt.ylabel(\"Impotance Score\")\n",
    "plt.show()"
   ]
  },
  {
   "cell_type": "code",
   "execution_count": 88,
   "id": "ee62cfc5",
   "metadata": {},
   "outputs": [
    {
     "data": {
      "text/plain": [
       "array([1, 0, 1, ..., 1, 1, 1], dtype=int64)"
      ]
     },
     "execution_count": 88,
     "metadata": {},
     "output_type": "execute_result"
    }
   ],
   "source": []
  },
  {
   "cell_type": "code",
   "execution_count": null,
   "id": "111660ed",
   "metadata": {},
   "outputs": [],
   "source": []
  }
 ],
 "metadata": {
  "kernelspec": {
   "display_name": "Python 3 (ipykernel)",
   "language": "python",
   "name": "python3"
  },
  "language_info": {
   "codemirror_mode": {
    "name": "ipython",
    "version": 3
   },
   "file_extension": ".py",
   "mimetype": "text/x-python",
   "name": "python",
   "nbconvert_exporter": "python",
   "pygments_lexer": "ipython3",
   "version": "3.9.16"
  }
 },
 "nbformat": 4,
 "nbformat_minor": 5
}
